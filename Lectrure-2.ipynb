{
 "cells": [
  {
   "cell_type": "markdown",
   "id": "c613e057",
   "metadata": {},
   "source": [
    "Loops\n",
    "\n",
    "For loop"
   ]
  },
  {
   "cell_type": "code",
   "execution_count": null,
   "id": "edba16d0",
   "metadata": {},
   "outputs": [
    {
     "name": "stdout",
     "output_type": "stream",
     "text": [
      "this is the i : neha\n",
      "this is the i : Preet\n"
     ]
    }
   ],
   "source": [
    "x = [\"Ria\", \"neha\", \"Preet\", \"sahil\"]\n",
    "\n",
    "for i in x:\n",
    "    if i == \"neha\" or i == \"Preet\":\n",
    "        print(\"this is the i :\", i)\n"
   ]
  },
  {
   "cell_type": "code",
   "execution_count": 18,
   "id": "360fd0c1",
   "metadata": {},
   "outputs": [
    {
     "name": "stdout",
     "output_type": "stream",
     "text": [
      "0\n",
      "1\n",
      "2\n",
      "3\n",
      "4\n",
      "5\n",
      "6\n",
      "7\n",
      "8\n",
      "9\n"
     ]
    }
   ],
   "source": [
    "for x in range(10):\n",
    "  print(x)"
   ]
  },
  {
   "cell_type": "markdown",
   "id": "4a953d9e",
   "metadata": {},
   "source": [
    "While Loop"
   ]
  },
  {
   "cell_type": "code",
   "execution_count": 22,
   "id": "edcfe070",
   "metadata": {},
   "outputs": [
    {
     "name": "stdout",
     "output_type": "stream",
     "text": [
      "this is the value after the loop:  11\n"
     ]
    }
   ],
   "source": [
    "i = 11\n",
    "\n",
    "while i<=10:\n",
    "    print(\"The value of i is :\", i ) \n",
    "    i+=1\n",
    "\n",
    "print(\"this is the value after the loop: \", i)\n"
   ]
  },
  {
   "cell_type": "markdown",
   "id": "17ec6bf2",
   "metadata": {},
   "source": [
    "Input "
   ]
  },
  {
   "cell_type": "code",
   "execution_count": null,
   "id": "fec6a3c0",
   "metadata": {},
   "outputs": [],
   "source": []
  },
  {
   "cell_type": "code",
   "execution_count": 26,
   "id": "274671f8",
   "metadata": {},
   "outputs": [
    {
     "name": "stdout",
     "output_type": "stream",
     "text": [
      "Enter your name \n",
      "<class 'str'>\n",
      "your name is : siraj\n"
     ]
    }
   ],
   "source": [
    "print(\"Enter your name \")\n",
    "\n",
    "name = input(\"enter you name\")\n",
    "\n",
    "print(type(name))\n",
    "\n",
    "print(\"your name is :\" , name)"
   ]
  },
  {
   "cell_type": "markdown",
   "id": "4bf584ca",
   "metadata": {},
   "source": [
    "Casting:\n",
    "\n",
    "\n",
    "# str to int \n",
    "# float to int\n",
    "# int to str\n",
    "# int to float"
   ]
  },
  {
   "cell_type": "code",
   "execution_count": null,
   "id": "ba8e0c0e",
   "metadata": {},
   "outputs": [
    {
     "name": "stdout",
     "output_type": "stream",
     "text": [
      "THe is the type of age before int() function :  <class 'str'>\n",
      "this is the type of the age after int() funtion  <class 'int'>\n",
      "your name is : Siraj \n",
      "your age is  24\n"
     ]
    }
   ],
   "source": [
    "name = input( \" Enter you name : \" )\n",
    "\n",
    "age = input(\"I want you to add your age \")\n",
    "\n",
    "print(\"THe is the type of age before int() function : \" , type(age))\n",
    "\n",
    "age = int(age)\n",
    "\n",
    "\n",
    "\n",
    "\n",
    "\n",
    "\n",
    "print( \"this is the type of the age after int() funtion \",type(age))\n",
    "\n",
    "print(\"your name is :\" , name)\n",
    "\n",
    "print(\"your age is \" , age)\n"
   ]
  },
  {
   "cell_type": "code",
   "execution_count": 39,
   "id": "5df8e27c",
   "metadata": {},
   "outputs": [
    {
     "data": {
      "text/plain": [
       "5.0"
      ]
     },
     "execution_count": 39,
     "metadata": {},
     "output_type": "execute_result"
    }
   ],
   "source": [
    "num = \"2\"\n",
    "num2 = 3\n",
    "\n",
    "num2 = str(num2)\n",
    "num = float(num)\n",
    "num2 = int(num2)\n",
    "\n",
    "num3 = num2 +num\n",
    "\n",
    "num3\n",
    "\n"
   ]
  },
  {
   "cell_type": "markdown",
   "id": "3025b87b",
   "metadata": {},
   "source": [
    "Problem Question:\n",
    "\n",
    "\n",
    "For Loop Questions\n",
    "\n",
    "\n",
    "Print numbers from 1 to 10 using a for loop.\n",
    "\n",
    "Print even numbers between 1 and 20.\n",
    "\n",
    "Print the multiplication table of a given number. \n",
    "\n",
    "Print the square of each number from 1 to 10.\n",
    "\n",
    "Calculate the sum of all numbers from 1 to n.\n",
    "\n",
    "Count the number of vowels in a string using a for loop.\n",
    "\n",
    "Print each character of a string on a new line.\n",
    "\n",
    "Iterate through a list and print only the odd numbers.\n",
    "\n",
    "Print elements of a nested list using nested for loops.\n",
    "\n",
    "Reverse a string using a loop.\n",
    "\n",
    "🔁 While Loop Questions\n",
    "\n",
    "\n",
    "Print numbers from 10 to 1 using a while loop.\n",
    "\n",
    "Find the factorial of a number using a while loop.\n",
    "\n",
    "Keep asking the user for input until they type \"exit\".\n",
    "\n",
    "Create a guessing game (guess a number between 1 to 10).\n",
    "\n",
    "Check if a number is a palindrome using a while loop."
   ]
  },
  {
   "cell_type": "code",
   "execution_count": null,
   "id": "1cba2f15",
   "metadata": {},
   "outputs": [],
   "source": [
    "def reverse_string(s):\n",
    "    reversed_s = \"\"\n",
    "    for char in s:\n",
    "        reversed_s = char + reversed_s\n",
    "    return reversed_s\n",
    "\n",
    "original_string = \"Hello, world!\"\n",
    "reversed_string = reverse_string(original_string)\n",
    "print(f\"Original string: {original_string}\")\n",
    "print(f\"Reversed string: {reversed_string}\")"
   ]
  }
 ],
 "metadata": {
  "kernelspec": {
   "display_name": "Python 3",
   "language": "python",
   "name": "python3"
  },
  "language_info": {
   "codemirror_mode": {
    "name": "ipython",
    "version": 3
   },
   "file_extension": ".py",
   "mimetype": "text/x-python",
   "name": "python",
   "nbconvert_exporter": "python",
   "pygments_lexer": "ipython3",
   "version": "3.12.5"
  }
 },
 "nbformat": 4,
 "nbformat_minor": 5
}
