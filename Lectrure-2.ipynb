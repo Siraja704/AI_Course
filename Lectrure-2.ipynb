{
 "cells": [
  {
   "cell_type": "markdown",
   "id": "c613e057",
   "metadata": {},
   "source": [
    "Loops\n",
    "\n",
    "For loop"
   ]
  },
  {
   "cell_type": "code",
   "execution_count": 15,
   "id": "edba16d0",
   "metadata": {},
   "outputs": [
    {
     "name": "stdout",
     "output_type": "stream",
     "text": [
      "this is the i : neha\n",
      "this is the i : Preet\n"
     ]
    }
   ],
   "source": [
    "x = [\"Ria\", \"neha\", \"Preet\", \"sahil\"]\n",
    "\n",
    "for i in x:\n",
    "    if i == \"neha\" or i == \"Preet\":\n",
    "        print(\"this is the i :\", i)\n"
   ]
  },
  {
   "cell_type": "code",
   "execution_count": 18,
   "id": "360fd0c1",
   "metadata": {},
   "outputs": [
    {
     "name": "stdout",
     "output_type": "stream",
     "text": [
      "0\n",
      "1\n",
      "2\n",
      "3\n",
      "4\n",
      "5\n",
      "6\n",
      "7\n",
      "8\n",
      "9\n"
     ]
    }
   ],
   "source": [
    "for x in range(10):\n",
    "  print(x)"
   ]
  },
  {
   "cell_type": "markdown",
   "id": "4a953d9e",
   "metadata": {},
   "source": [
    "While Loop"
   ]
  },
  {
   "cell_type": "code",
   "execution_count": 22,
   "id": "edcfe070",
   "metadata": {},
   "outputs": [
    {
     "name": "stdout",
     "output_type": "stream",
     "text": [
      "this is the value after the loop:  11\n"
     ]
    }
   ],
   "source": [
    "i = 11\n",
    "\n",
    "while i<=10:\n",
    "    print(\"The value of i is :\", i ) \n",
    "    i+=1\n",
    "\n",
    "print(\"this is the value after the loop: \", i)\n"
   ]
  }
 ],
 "metadata": {
  "kernelspec": {
   "display_name": "Python 3",
   "language": "python",
   "name": "python3"
  },
  "language_info": {
   "codemirror_mode": {
    "name": "ipython",
    "version": 3
   },
   "file_extension": ".py",
   "mimetype": "text/x-python",
   "name": "python",
   "nbconvert_exporter": "python",
   "pygments_lexer": "ipython3",
   "version": "3.12.5"
  }
 },
 "nbformat": 4,
 "nbformat_minor": 5
}
