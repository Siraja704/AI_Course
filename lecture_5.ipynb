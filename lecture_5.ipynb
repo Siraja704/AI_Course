{
 "cells": [
  {
   "cell_type": "code",
   "execution_count": null,
   "id": "e5e46e27",
   "metadata": {},
   "outputs": [],
   "source": []
  },
  {
   "cell_type": "markdown",
   "id": "c238f32b",
   "metadata": {},
   "source": [
    "Dictonary "
   ]
  },
  {
   "cell_type": "code",
   "execution_count": null,
   "id": "647505a7",
   "metadata": {},
   "outputs": [],
   "source": [
    "data = {\n",
    "    1:\"jerry\",\n",
    "    2:\"Neha\",\n",
    "    3:\"\"\n",
    "}"
   ]
  },
  {
   "cell_type": "code",
   "execution_count": null,
   "id": "46b7f720",
   "metadata": {},
   "outputs": [],
   "source": []
  }
 ],
 "metadata": {
  "kernelspec": {
   "display_name": "Python 3",
   "language": "python",
   "name": "python3"
  },
  "language_info": {
   "name": "python",
   "version": "3.12.5"
  }
 },
 "nbformat": 4,
 "nbformat_minor": 5
}
