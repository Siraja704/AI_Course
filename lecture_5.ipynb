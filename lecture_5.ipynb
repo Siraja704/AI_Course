{
 "cells": [
  {
   "cell_type": "markdown",
   "id": "c238f32b",
   "metadata": {},
   "source": [
    "Dictonary"
   ]
  },
  {
   "cell_type": "code",
   "execution_count": 16,
   "id": "647505a7",
   "metadata": {},
   "outputs": [
    {
     "name": "stdout",
     "output_type": "stream",
     "text": [
      "Rohit\n"
     ]
    }
   ],
   "source": [
    "data = {\n",
    "    1:\"jerry\",\n",
    "    2:\"Neha\",\n",
    "    3:\"Rohit\",\n",
    "    \"Name\":\"Siraj\"\n",
    "}\n",
    "\n",
    "print(data.get(3,\"Not found\"))\n",
    "\n"
   ]
  },
  {
   "cell_type": "code",
   "execution_count": null,
   "id": "46b7f720",
   "metadata": {},
   "outputs": [
    {
     "name": "stdout",
     "output_type": "stream",
     "text": [
      "Rohit\n"
     ]
    }
   ],
   "source": []
  },
  {
   "cell_type": "markdown",
   "id": "f01bcc0d",
   "metadata": {},
   "source": [
    "list in to dictionary"
   ]
  },
  {
   "cell_type": "code",
   "execution_count": 20,
   "id": "4c1090ea",
   "metadata": {},
   "outputs": [
    {
     "data": {
      "text/plain": [
       "'Java'"
      ]
     },
     "execution_count": 20,
     "metadata": {},
     "output_type": "execute_result"
    }
   ],
   "source": [
    "names =[\"jerry\", \"Rohit\",\"Neha\"]\n",
    "\n",
    "favt_program = [\"Python\", \"Java Script\", \"Java\"]\n",
    "\n",
    "data = dict(zip(names,favt_program))\n",
    "\n",
    "\n",
    "data[\"Neha\"]"
   ]
  },
  {
   "cell_type": "markdown",
   "id": "ae6e9d72",
   "metadata": {},
   "source": [
    "new entry"
   ]
  },
  {
   "cell_type": "code",
   "execution_count": 22,
   "id": "3ffb4c89",
   "metadata": {},
   "outputs": [
    {
     "data": {
      "text/plain": [
       "{'jerry': 'Python', 'Rohit': 'Java Script', 'Neha': 'Java', 'Siraj': 'Python'}"
      ]
     },
     "execution_count": 22,
     "metadata": {},
     "output_type": "execute_result"
    }
   ],
   "source": [
    "data[\"Siraj\"] = \"Python\"\n",
    "data"
   ]
  },
  {
   "cell_type": "code",
   "execution_count": 29,
   "id": "dacdc8f5",
   "metadata": {},
   "outputs": [
    {
     "data": {
      "text/plain": [
       "{'jerry': 'Python', 'Rohit': 'Java Script', 'Neha': 'Java', 'Siraj': 'Python'}"
      ]
     },
     "execution_count": 29,
     "metadata": {},
     "output_type": "execute_result"
    }
   ],
   "source": [
    "data"
   ]
  },
  {
   "cell_type": "code",
   "execution_count": 25,
   "id": "3cd221b2",
   "metadata": {},
   "outputs": [],
   "source": [
    "del data[\"Siraj\"]"
   ]
  },
  {
   "cell_type": "code",
   "execution_count": 26,
   "id": "92b67187",
   "metadata": {},
   "outputs": [
    {
     "data": {
      "text/plain": [
       "{'jerry': 'Python', 'Neha': 'Java'}"
      ]
     },
     "execution_count": 26,
     "metadata": {},
     "output_type": "execute_result"
    }
   ],
   "source": [
    "data"
   ]
  },
  {
   "cell_type": "code",
   "execution_count": null,
   "id": "773a551f",
   "metadata": {},
   "outputs": [
    {
     "data": {
      "text/plain": [
       "'Vs Code'"
      ]
     },
     "execution_count": 37,
     "metadata": {},
     "output_type": "execute_result"
    }
   ],
   "source": [
    "programming = {\n",
    "    \"python\":\"VS code\",\n",
    "    \"JS\" :[\"Atom\",\"Vs Code\"],\n",
    "    \"Java\":{\n",
    "        \"SEE\":\"NetBeans\",\n",
    "        \"Code\":\"Vs Code\",\n",
    "        \"Software\":[\"Eclapse\",\"Cursor\"]\n",
    "    }\n",
    "}\n",
    "\n",
    "programming[\"JS\"][1]"
   ]
  },
  {
   "cell_type": "markdown",
   "id": "ba5ec691",
   "metadata": {},
   "source": []
  },
  {
   "cell_type": "code",
   "execution_count": 31,
   "id": "b4440cbb",
   "metadata": {},
   "outputs": [
    {
     "data": {
      "text/plain": [
       "'Cursor'"
      ]
     },
     "execution_count": 31,
     "metadata": {},
     "output_type": "execute_result"
    }
   ],
   "source": [
    "\n",
    "\n",
    "data = {\n",
    "    \"Python\": [\"Vs Code\",\"NoteBook\"],\n",
    "    \"React\": \"Atom\",\n",
    "    \"Java\" :\n",
    "\n",
    "    {\n",
    "        \"SEE\": \"VS Code\",\n",
    "        \"Code\": \"Eclapse\",\n",
    "        \"Software\": [\"VS code\",\"Cursor\"]\n",
    "    }\n",
    "\n",
    "}\n",
    "\n",
    "\n",
    "\n",
    "data[\"Java\"][\"Software\"][1] \n",
    "\n"
   ]
  },
  {
   "cell_type": "code",
   "execution_count": null,
   "id": "6ebd27bb",
   "metadata": {},
   "outputs": [
    {
     "ename": "SyntaxError",
     "evalue": "unmatched '}' (1996879056.py, line 11)",
     "output_type": "error",
     "traceback": [
      "\u001b[0;36m  Cell \u001b[0;32mIn[32], line 11\u001b[0;36m\u001b[0m\n\u001b[0;31m    }\u001b[0m\n\u001b[0m    ^\u001b[0m\n\u001b[0;31mSyntaxError\u001b[0m\u001b[0;31m:\u001b[0m unmatched '}'\n"
     ]
    }
   ],
   "source": [
    "\n",
    "#python : data scince , AI, ML, Deep LEarning\n",
    "\n",
    "Student ={\n",
    "    \"Name\": \"Siraj\",\n",
    "    \"CGPA\": \"9.6\",\n",
    "    \"SUB\":{\n",
    "        \"Python\":[\"Data Science\",\"AI\",\"ML\"],\n",
    "        \"English\":\"Techinical Writing\",\n",
    "        \"Science\": [\"Bio\", \"Chem\",\"Phy\"]\n",
    "    }\n",
    "}\n",
    "\n"
   ]
  },
  {
   "cell_type": "markdown",
   "id": "5cf98721",
   "metadata": {},
   "source": [
    "try:\n",
    "\n",
    "\n",
    "except exception as e:\n"
   ]
  },
  {
   "cell_type": "code",
   "execution_count": null,
   "id": "d1f1d46f",
   "metadata": {},
   "outputs": [
    {
     "name": "stdout",
     "output_type": "stream",
     "text": [
      "division by zero\n"
     ]
    }
   ],
   "source": [
    "a = 6\n",
    "b= 3\n",
    "\n",
    "a = int(input(\"Enter any value ...\"))\n",
    "b = int(input(\"Enter any value ...\"))\n",
    "\n",
    "try:\n",
    "\n",
    "    a = int(input(\"Enter any value ...\"))\n",
    "    b = int(input(\"Enter any value ...\"))   \n",
    "\n",
    "    print(a/b)\n",
    "   \n",
    "\n",
    "except Exception as  e:\n",
    "    print(e)\n",
    "\n",
    "\n",
    "   print(a/b)\n",
    "\n",
    "\n",
    "\n",
    "\n",
    "\n"
   ]
  },
  {
   "cell_type": "markdown",
   "id": "45e44c8b",
   "metadata": {},
   "source": [
    "house task"
   ]
  },
  {
   "cell_type": "markdown",
   "id": "fa409daf",
   "metadata": {},
   "source": []
  }
 ],
 "metadata": {
  "kernelspec": {
   "display_name": "Python 3",
   "language": "python",
   "name": "python3"
  },
  "language_info": {
   "codemirror_mode": {
    "name": "ipython",
    "version": 3
   },
   "file_extension": ".py",
   "mimetype": "text/x-python",
   "name": "python",
   "nbconvert_exporter": "python",
   "pygments_lexer": "ipython3",
   "version": "3.12.5"
  }
 },
 "nbformat": 4,
 "nbformat_minor": 5
}
