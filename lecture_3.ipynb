{
 "cells": [
  {
   "cell_type": "markdown",
   "id": "0f07399f",
   "metadata": {},
   "source": [
    "Multi of any number:\n"
   ]
  },
  {
   "cell_type": "code",
   "execution_count": null,
   "id": "64699474",
   "metadata": {},
   "outputs": [
    {
     "name": "stdout",
     "output_type": "stream",
     "text": [
      "1  *  5  = {num} 5\n",
      "2  *  5  = {num} 10\n",
      "3  *  5  = {num} 15\n",
      "4  *  5  = {num} 20\n",
      "5  *  5  = {num} 25\n",
      "6  *  5  = {num} 30\n",
      "7  *  5  = {num} 35\n",
      "8  *  5  = {num} 40\n",
      "9  *  5  = {num} 45\n",
      "10  *  5  = {num} 50\n"
     ]
    }
   ],
   "source": [
    "num = input(\"Enter any number to create Table : \")\n",
    "\n",
    "num = int(num)\n",
    "\n",
    "for x in range(1 ,11):\n",
    "    print( x ,\" * \", num ,\" = \",x*num)\n",
    "\n",
    "    # 1 * 5 = 5\n",
    "\n",
    "make_a_table()\n",
    "\n",
    "\n"
   ]
  },
  {
   "cell_type": "markdown",
   "id": "c4ce6526",
   "metadata": {},
   "source": [
    "functions \n",
    "\n",
    "\n"
   ]
  },
  {
   "cell_type": "code",
   "execution_count": null,
   "id": "679f8960",
   "metadata": {},
   "outputs": [
    {
     "name": "stdout",
     "output_type": "stream",
     "text": [
      "1  *  5  =  5\n",
      "2  *  5  =  10\n",
      "3  *  5  =  15\n",
      "4  *  5  =  20\n",
      "5  *  5  =  25\n",
      "6  *  5  =  30\n",
      "7  *  5  =  35\n",
      "8  *  5  =  40\n",
      "9  *  5  =  45\n",
      "10  *  5  =  50\n",
      "1  *  6  =  6\n",
      "2  *  6  =  12\n",
      "3  *  6  =  18\n",
      "4  *  6  =  24\n",
      "5  *  6  =  30\n",
      "6  *  6  =  36\n",
      "7  *  6  =  42\n",
      "8  *  6  =  48\n",
      "9  *  6  =  54\n",
      "10  *  6  =  60\n",
      "1  *  7  =  7\n",
      "2  *  7  =  14\n",
      "3  *  7  =  21\n",
      "4  *  7  =  28\n",
      "5  *  7  =  35\n",
      "6  *  7  =  42\n",
      "7  *  7  =  49\n",
      "8  *  7  =  56\n",
      "9  *  7  =  63\n",
      "10  *  7  =  70\n"
     ]
    }
   ],
   "source": [
    "def make_a_table():\n",
    "    num = input(\"Enter any number to create Table : \")\n",
    "\n",
    "    num = int(num)\n",
    "\n",
    "    for x in range(1 ,11):\n",
    "         print( x ,\" * \", num ,\" = \",x*num)\n",
    "            \n",
    "\n",
    "\n",
    "\n",
    "\n",
    "make_a_table()\n",
    "\n"
   ]
  },
  {
   "cell_type": "markdown",
   "id": "9610b3ee",
   "metadata": {},
   "source": [
    "Return in fucntion"
   ]
  },
  {
   "cell_type": "code",
   "execution_count": 20,
   "id": "15fc6869",
   "metadata": {},
   "outputs": [
    {
     "name": "stdout",
     "output_type": "stream",
     "text": [
      "1\n"
     ]
    }
   ],
   "source": [
    "def sum():\n",
    "    num = input(\"enter any value.....\")\n",
    "    num = int(num)\n",
    "\n",
    "    num2 = num+ 5\n",
    "\n",
    "    return 1\n",
    "    \n",
    "\n",
    "result = sum()\n",
    "\n",
    "print(result)\n"
   ]
  },
  {
   "cell_type": "code",
   "execution_count": null,
   "id": "cfc41e63",
   "metadata": {},
   "outputs": [
    {
     "name": "stdout",
     "output_type": "stream",
     "text": [
      "Hello.. neha\n",
      "how you doing?\n",
      "Where you live?  neha\n",
      "Hello.. ahmed\n",
      "how you doing?\n",
      "hey there, ahmed\n"
     ]
    }
   ],
   "source": [
    "def greet():\n",
    "      name = input(\"hello, My Name is Siraj, what is yours? ...\")\n",
    "      print(\"Hello..\",name)\n",
    "      print(\"how you doing?\")\n",
    "\n",
    "      return name\n",
    "\n",
    "\n",
    "user_name  =  greet()\n",
    "\n",
    "greet()\n",
    "\n",
    "\n",
    "\n",
    "\n",
    "\n"
   ]
  },
  {
   "cell_type": "code",
   "execution_count": 26,
   "id": "79fcb390",
   "metadata": {},
   "outputs": [
    {
     "name": "stdout",
     "output_type": "stream",
     "text": [
      "Hello.. ahmed\n",
      "how you doing?\n"
     ]
    }
   ],
   "source": [
    "def greet():\n",
    "      name = input(\"hello, My Name is Siraj, what is yours? ...\")\n",
    "      \n",
    "      if name==\"Siraj\":\n",
    "            print(\"We have the same name\")\n",
    "            return name\n",
    "\n",
    "      \n",
    "      print(\"Hello..\",name)\n",
    "      print(\"how you doing?\")\n",
    "      return name\n",
    "      \n",
    "\n",
    "\n",
    "user_name  =  greet()\n",
    "\n",
    "\n",
    "\n",
    "\n",
    "\n",
    "\n",
    "\n"
   ]
  },
  {
   "cell_type": "markdown",
   "id": "8ec7245d",
   "metadata": {},
   "source": [
    "parameters"
   ]
  },
  {
   "cell_type": "code",
   "execution_count": 49,
   "id": "576ecd2b",
   "metadata": {},
   "outputs": [
    {
     "ename": "TypeError",
     "evalue": "greet() missing 2 required positional arguments: 'xyz' and 'name'",
     "output_type": "error",
     "traceback": [
      "\u001b[0;31m---------------------------------------------------------------------------\u001b[0m",
      "\u001b[0;31mTypeError\u001b[0m                                 Traceback (most recent call last)",
      "Cell \u001b[0;32mIn[49], line 16\u001b[0m\n\u001b[1;32m     11\u001b[0m name \u001b[38;5;241m=\u001b[39m \u001b[38;5;124m\"\u001b[39m\u001b[38;5;124mdef\u001b[39m\u001b[38;5;124m\"\u001b[39m\n\u001b[1;32m     13\u001b[0m \u001b[38;5;66;03m# greet(\"neha\")\u001b[39;00m\n\u001b[0;32m---> 16\u001b[0m \u001b[43mgreet\u001b[49m\u001b[43m(\u001b[49m\u001b[43m)\u001b[49m\n",
      "\u001b[0;31mTypeError\u001b[0m: greet() missing 2 required positional arguments: 'xyz' and 'name'"
     ]
    }
   ],
   "source": [
    "\n",
    "\n",
    "def greet(xyz, name):\n",
    "    print(\"Hello \", xyz , name)\n",
    "    print(\"how you doing\")\n",
    "    \n",
    "\n",
    "\n",
    "\n",
    "\n",
    "\n",
    "xyz = \"abc\"\n",
    "name = \"def\"\n",
    "\n",
    "# greet(\"neha\")\n",
    "\n",
    "\n",
    "greet()\n",
    "\n",
    "\n"
   ]
  },
  {
   "cell_type": "markdown",
   "id": "bda24e6b",
   "metadata": {},
   "source": [
    "Even or Odd Checker\n",
    "Write a function is_even(number) that returns True if the number is even, otherwise False.\n",
    "\n",
    "Maximum of Two Numbers\n",
    "Write a function max_of_two(a, b) that returns the greater number.\n",
    "\n",
    "Factorial Calculator\n",
    "Write a function factorial(n) that returns the factorial of a number using recursion.\n",
    "\n",
    "Palindrome Checker\n",
    "Write a function is_palindrome(s) that returns True if the string is a palindrome.\n",
    "\n",
    "Fibonacci Sequence Generator\n",
    "Write a function fibonacci(n) that returns the first n Fibonacci numbers as a list.\n",
    "\n",
    "Prime Checker\n",
    "Write a function is_prime(n) that returns True if the number is prime.\n",
    "\n",
    "Sum of Digits\n",
    "Write a function sum_of_digits(n) that returns the sum of all digits of the number.\n",
    "\n",
    "Reverse a String\n",
    "Write a function reverse_string(s) that returns the reversed version of a string.\n",
    "\n",
    "Count Vowels\n",
    "Write a function count_vowels(s) that returns the number of vowels in the given string.\n",
    "\n",
    "Simple Calculator\n",
    "Write a function calculator(a, b, op) where op is one of '+', '-', '*', '/', and it returns the result."
   ]
  }
 ],
 "metadata": {
  "kernelspec": {
   "display_name": "Python 3",
   "language": "python",
   "name": "python3"
  },
  "language_info": {
   "codemirror_mode": {
    "name": "ipython",
    "version": 3
   },
   "file_extension": ".py",
   "mimetype": "text/x-python",
   "name": "python",
   "nbconvert_exporter": "python",
   "pygments_lexer": "ipython3",
   "version": "3.12.5"
  }
 },
 "nbformat": 4,
 "nbformat_minor": 5
}
