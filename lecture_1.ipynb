{
 "cells": [
  {
   "cell_type": "markdown",
   "id": "d7733934",
   "metadata": {},
   "source": [
    "variables are used store values \n",
    "\n",
    "(\n",
    "int , string , float , booleean \n",
    "\n",
    "number , \"Lecture\" , 65.7 , Ture or False  )\n",
    "\n"
   ]
  },
  {
   "cell_type": "code",
   "execution_count": 16,
   "id": "50ab235f",
   "metadata": {},
   "outputs": [
    {
     "data": {
      "text/plain": [
       "5"
      ]
     },
     "execution_count": 16,
     "metadata": {},
     "output_type": "execute_result"
    }
   ],
   "source": [
    "Number = \"Siraj\"\n",
    "num2 = 6\n",
    "\n",
    "check = True\n",
    "\n",
    "num3 =  5\n",
    "\n",
    "num3 "
   ]
  },
  {
   "cell_type": "markdown",
   "id": "c64950a5",
   "metadata": {},
   "source": [
    "Datatypes"
   ]
  },
  {
   "cell_type": "code",
   "execution_count": 18,
   "id": "68ae3bd3",
   "metadata": {},
   "outputs": [
    {
     "name": "stdout",
     "output_type": "stream",
     "text": [
      "<class 'int'>\n",
      "<class 'int'>\n",
      "<class 'str'>\n",
      "<class 'bool'>\n"
     ]
    }
   ],
   "source": [
    "print(type(num3))\n",
    "print(type(num2))\n",
    "print(type(Number))\n",
    "print(type(check))\n"
   ]
  },
  {
   "cell_type": "markdown",
   "id": "0f1bcdf4",
   "metadata": {},
   "source": [
    "Print()"
   ]
  },
  {
   "cell_type": "code",
   "execution_count": null,
   "id": "9255c8d2",
   "metadata": {},
   "outputs": [
    {
     "name": "stdout",
     "output_type": "stream",
     "text": [
      "This is the lecture 1\n"
     ]
    }
   ],
   "source": [
    "print(\"This is the lecture 1\")\n"
   ]
  },
  {
   "cell_type": "markdown",
   "id": "32cfdd29",
   "metadata": {},
   "source": [
    "input"
   ]
  },
  {
   "cell_type": "code",
   "execution_count": null,
   "id": "1d4c9c76",
   "metadata": {},
   "outputs": [],
   "source": []
  },
  {
   "cell_type": "markdown",
   "id": "86008439",
   "metadata": {},
   "source": [
    "List , Tuple \n",
    "\n",
    "tuple:\n",
    "\n",
    " b = (0, 1, 2, 3)\n",
    "\n",
    "b[0] = 4\n",
    "print(b)\n",
    "\n",
    "list:\n",
    "\n",
    "\n",
    "a = [1, 2, 4, 4, 3, 3, 3, 6, 5]\n",
    "\n",
    "\n",
    "a[3] = 77\n",
    "print(a)\n"
   ]
  },
  {
   "cell_type": "code",
   "execution_count": 37,
   "id": "46f7f24c",
   "metadata": {},
   "outputs": [
    {
     "name": "stdout",
     "output_type": "stream",
     "text": [
      "Student Name :  abc , Age  : 30  , Semester :  5\n",
      "This was the value of index  567\n"
     ]
    }
   ],
   "source": [
    "\n",
    "# age = (20,23,24,25,26)\n",
    "# #index = 0,1,2,3,4 \n",
    "# age[3] =27\n",
    "\n",
    "# print(age[3])\n",
    "\n",
    "val = 567\n",
    "\n",
    "student = [\"abc\", \"Darshan\", \"Kanwal\", \"khan\", \"Harry\"]\n",
    "Age=[30,27,24,25,23]\n",
    "sem = [5,6,7,8,3]\n",
    "\n",
    "\n",
    "\n",
    "\n",
    "\n",
    "print(\"Student Name : \" ,student[0], \", Age  :\" , Age[0], \" , Semester : \" ,sem[0])\n",
    "\n",
    "print(\"This was the value of index \" , val )\n",
    "\n"
   ]
  },
  {
   "cell_type": "markdown",
   "id": "771ef46f",
   "metadata": {},
   "source": [
    "Dictionary \n",
    "\n",
    "student = {\n",
    "    \"name\": \"Siraj\",\n",
    "    \"age\" : 24,\n",
    "    \"gender\": \"male\",\n",
    "    \n",
    "\n",
    "}"
   ]
  },
  {
   "cell_type": "code",
   "execution_count": null,
   "id": "505fd921",
   "metadata": {},
   "outputs": [
    {
     "name": "stdout",
     "output_type": "stream",
     "text": [
      "<class 'dict'>\n"
     ]
    }
   ],
   "source": []
  },
  {
   "cell_type": "markdown",
   "id": "264d83ba",
   "metadata": {},
   "source": [
    "Arithmetic Operators\n",
    "Assignment operators\n",
    "relational Operators\n",
    "logical operators\n"
   ]
  },
  {
   "cell_type": "code",
   "execution_count": null,
   "id": "564ad536",
   "metadata": {},
   "outputs": [],
   "source": []
  },
  {
   "cell_type": "markdown",
   "id": "52444c33",
   "metadata": {},
   "source": [
    "if else"
   ]
  },
  {
   "cell_type": "code",
   "execution_count": null,
   "id": "908a5df1",
   "metadata": {},
   "outputs": [],
   "source": []
  },
  {
   "cell_type": "markdown",
   "id": "d9791c37",
   "metadata": {},
   "source": [
    "modulus"
   ]
  },
  {
   "cell_type": "code",
   "execution_count": null,
   "id": "9143675d",
   "metadata": {},
   "outputs": [
    {
     "name": "stdout",
     "output_type": "stream",
     "text": [
      "0\n"
     ]
    }
   ],
   "source": []
  },
  {
   "cell_type": "markdown",
   "id": "93fb8afe",
   "metadata": {},
   "source": [
    "\n",
    "\n",
    "Even or Odd Checker\n",
    "\n",
    "\n",
    "Positive, Negative, or Zero\n",
    "\n",
    "\n",
    "Check Age Eligibility\n",
    "\n",
    "\n",
    "\n",
    "Number Comparison\n",
    "\n",
    "\n",
    "Check Multiple of 5\n",
    "\n",
    "\n",
    "(exchange the variable data)"
   ]
  }
 ],
 "metadata": {
  "kernelspec": {
   "display_name": "Python 3",
   "language": "python",
   "name": "python3"
  },
  "language_info": {
   "codemirror_mode": {
    "name": "ipython",
    "version": 3
   },
   "file_extension": ".py",
   "mimetype": "text/x-python",
   "name": "python",
   "nbconvert_exporter": "python",
   "pygments_lexer": "ipython3",
   "version": "3.12.5"
  }
 },
 "nbformat": 4,
 "nbformat_minor": 5
}
