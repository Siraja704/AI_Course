{
 "cells": [
  {
   "cell_type": "markdown",
   "id": "d7733934",
   "metadata": {},
   "source": [
    "variables\n"
   ]
  },
  {
   "cell_type": "code",
   "execution_count": null,
   "id": "50ab235f",
   "metadata": {},
   "outputs": [],
   "source": []
  },
  {
   "cell_type": "markdown",
   "id": "c64950a5",
   "metadata": {},
   "source": [
    "Datatypes"
   ]
  },
  {
   "cell_type": "code",
   "execution_count": null,
   "id": "68ae3bd3",
   "metadata": {},
   "outputs": [],
   "source": []
  },
  {
   "cell_type": "markdown",
   "id": "0f1bcdf4",
   "metadata": {},
   "source": [
    "Print()"
   ]
  },
  {
   "cell_type": "code",
   "execution_count": null,
   "id": "9255c8d2",
   "metadata": {},
   "outputs": [],
   "source": []
  },
  {
   "cell_type": "markdown",
   "id": "32cfdd29",
   "metadata": {},
   "source": [
    "input"
   ]
  },
  {
   "cell_type": "code",
   "execution_count": null,
   "id": "1d4c9c76",
   "metadata": {},
   "outputs": [],
   "source": []
  },
  {
   "cell_type": "markdown",
   "id": "86008439",
   "metadata": {},
   "source": [
    "List , Tuple \n",
    "\n",
    "tuple:\n",
    "\n",
    " b = (0, 1, 2, 3)\n",
    "\n",
    "b[0] = 4\n",
    "print(b)\n",
    "\n",
    "list:\n",
    "\n",
    "\n",
    "a = [1, 2, 4, 4, 3, 3, 3, 6, 5]\n",
    "\n",
    "\n",
    "a[3] = 77\n",
    "print(a)\n"
   ]
  },
  {
   "cell_type": "code",
   "execution_count": null,
   "id": "46f7f24c",
   "metadata": {},
   "outputs": [
    {
     "name": "stdout",
     "output_type": "stream",
     "text": [
      "<class 'list'>\n"
     ]
    }
   ],
   "source": []
  },
  {
   "cell_type": "markdown",
   "id": "771ef46f",
   "metadata": {},
   "source": [
    "Dictionary \n",
    "\n",
    "student = {\n",
    "    \"name\": \"Siraj\",\n",
    "    \"age\" : 24,\n",
    "    \"gender\": \"male\",\n",
    "    \n",
    "\n",
    "}"
   ]
  },
  {
   "cell_type": "code",
   "execution_count": null,
   "id": "505fd921",
   "metadata": {},
   "outputs": [
    {
     "name": "stdout",
     "output_type": "stream",
     "text": [
      "<class 'dict'>\n"
     ]
    }
   ],
   "source": []
  },
  {
   "cell_type": "markdown",
   "id": "264d83ba",
   "metadata": {},
   "source": [
    "Arithmetic Operators\n",
    "Assignment operators\n",
    "relational Operators\n",
    "logical operators\n"
   ]
  },
  {
   "cell_type": "code",
   "execution_count": null,
   "id": "564ad536",
   "metadata": {},
   "outputs": [],
   "source": []
  },
  {
   "cell_type": "markdown",
   "id": "52444c33",
   "metadata": {},
   "source": [
    "if else"
   ]
  },
  {
   "cell_type": "code",
   "execution_count": null,
   "id": "908a5df1",
   "metadata": {},
   "outputs": [],
   "source": []
  },
  {
   "cell_type": "markdown",
   "id": "d9791c37",
   "metadata": {},
   "source": [
    "modulus"
   ]
  },
  {
   "cell_type": "code",
   "execution_count": null,
   "id": "9143675d",
   "metadata": {},
   "outputs": [
    {
     "name": "stdout",
     "output_type": "stream",
     "text": [
      "0\n"
     ]
    }
   ],
   "source": []
  },
  {
   "cell_type": "markdown",
   "id": "93fb8afe",
   "metadata": {},
   "source": [
    "\n",
    "\n",
    "Even or Odd Checker\n",
    "\n",
    "\n",
    "Positive, Negative, or Zero\n",
    "\n",
    "\n",
    "Check Age Eligibility\n",
    "\n",
    "\n",
    "\n",
    "Number Comparison\n",
    "\n",
    "\n",
    "Check Multiple of 5\n",
    "\n",
    "\n",
    "(exchange the variable data)"
   ]
  }
 ],
 "metadata": {
  "kernelspec": {
   "display_name": "Python 3",
   "language": "python",
   "name": "python3"
  },
  "language_info": {
   "codemirror_mode": {
    "name": "ipython",
    "version": 3
   },
   "file_extension": ".py",
   "mimetype": "text/x-python",
   "name": "python",
   "nbconvert_exporter": "python",
   "pygments_lexer": "ipython3",
   "version": "3.12.5"
  }
 },
 "nbformat": 4,
 "nbformat_minor": 5
}
