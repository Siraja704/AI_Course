{
 "cells": [
  {
   "cell_type": "markdown",
   "id": "d7733934",
   "metadata": {},
   "source": [
    "variables are used store values \n",
    "\n",
    "(\n",
    "int , string , float , booleean \n",
    "\n",
    "number , \"Lecture\" , 65.7 , Ture or False  )\n",
    "\n"
   ]
  },
  {
   "cell_type": "code",
   "execution_count": 16,
   "id": "50ab235f",
   "metadata": {},
   "outputs": [
    {
     "data": {
      "text/plain": [
       "5"
      ]
     },
     "execution_count": 16,
     "metadata": {},
     "output_type": "execute_result"
    }
   ],
   "source": [
    "Number = \"Siraj\"\n",
    "num2 = 6\n",
    "\n",
    "check = True\n",
    "\n",
    "num3 =  5\n",
    "\n",
    "num3 "
   ]
  },
  {
   "cell_type": "markdown",
   "id": "c64950a5",
   "metadata": {},
   "source": [
    "Datatypes"
   ]
  },
  {
   "cell_type": "code",
   "execution_count": 18,
   "id": "68ae3bd3",
   "metadata": {},
   "outputs": [
    {
     "name": "stdout",
     "output_type": "stream",
     "text": [
      "<class 'int'>\n",
      "<class 'int'>\n",
      "<class 'str'>\n",
      "<class 'bool'>\n"
     ]
    }
   ],
   "source": [
    "print(type(num3))\n",
    "print(type(num2))\n",
    "print(type(Number))\n",
    "print(type(check))\n"
   ]
  },
  {
   "cell_type": "markdown",
   "id": "0f1bcdf4",
   "metadata": {},
   "source": [
    "Print()"
   ]
  },
  {
   "cell_type": "code",
   "execution_count": null,
   "id": "9255c8d2",
   "metadata": {},
   "outputs": [
    {
     "name": "stdout",
     "output_type": "stream",
     "text": [
      "This is the lecture 1\n"
     ]
    }
   ],
   "source": [
    "print(\"This is the lecture 1\")\n"
   ]
  },
  {
   "cell_type": "markdown",
   "id": "32cfdd29",
   "metadata": {},
   "source": [
    "input"
   ]
  },
  {
   "cell_type": "code",
   "execution_count": null,
   "id": "1d4c9c76",
   "metadata": {},
   "outputs": [],
   "source": []
  },
  {
   "cell_type": "markdown",
   "id": "86008439",
   "metadata": {},
   "source": [
    "List , Tuple \n",
    "\n",
    "tuple:\n",
    "\n",
    " b = (0, 1, 2, 3)\n",
    "\n",
    "b[0] = 4\n",
    "print(b)\n",
    "\n",
    "list:\n",
    "\n",
    "\n",
    "a = [1, 2, 4, 4, 3, 3, 3, 6, 5]\n",
    "\n",
    "\n",
    "a[3] = 77\n",
    "print(a)\n"
   ]
  },
  {
   "cell_type": "code",
   "execution_count": 37,
   "id": "46f7f24c",
   "metadata": {},
   "outputs": [
    {
     "name": "stdout",
     "output_type": "stream",
     "text": [
      "Student Name :  abc , Age  : 30  , Semester :  5\n",
      "This was the value of index  567\n"
     ]
    }
   ],
   "source": [
    "\n",
    "# age = (20,23,24,25,26)\n",
    "# #index = 0,1,2,3,4 \n",
    "# age[3] =27\n",
    "\n",
    "# print(age[3])\n",
    "\n",
    "val = 567\n",
    "\n",
    "student = [\"abc\", \"Darshan\", \"Kanwal\", \"khan\", \"Harry\"]\n",
    "Age=[30,27,24,25,23]\n",
    "sem = [5,6,7,8,3]\n",
    "\n",
    "\n",
    "\n",
    "\n",
    "\n",
    "print(\"Student Name : \" ,student[0], \", Age  :\" , Age[0], \" , Semester : \" ,sem[0])\n",
    "\n",
    "print(\"This was the value of index \" , val )\n",
    "\n"
   ]
  },
  {
   "cell_type": "markdown",
   "id": "771ef46f",
   "metadata": {},
   "source": [
    "Dictionary \n",
    "\n",
    "student = {\n",
    "    \"name\": \"Siraj\",\n",
    "    \"age\" : 24,\n",
    "    \"gender\": \"male\",\n",
    "    \n",
    "\n",
    "}"
   ]
  },
  {
   "cell_type": "code",
   "execution_count": 43,
   "id": "505fd921",
   "metadata": {},
   "outputs": [
    {
     "name": "stdout",
     "output_type": "stream",
     "text": [
      "24\n"
     ]
    }
   ],
   "source": [
    "\n",
    "student = {\n",
    "    \"name\": \"Siraj\",\n",
    "    \"age\" : 24,\n",
    "    \"Salary\": 45000.6,\n",
    "    \"gender\": \"male\",\n",
    "    \n",
    "\n",
    "}\n",
    "\n",
    "\n",
    "print(student[\"age\"])\n",
    "\n"
   ]
  },
  {
   "cell_type": "markdown",
   "id": "264d83ba",
   "metadata": {},
   "source": [
    "Arithmetic Operators \n",
    "Assignment operators\n",
    "relational Operators\n",
    "logical operators\n",
    "\n",
    "\n",
    " a = b\n"
   ]
  },
  {
   "cell_type": "code",
   "execution_count": null,
   "id": "564ad536",
   "metadata": {},
   "outputs": [
    {
     "data": {
      "text/plain": [
       "True"
      ]
     },
     "execution_count": 61,
     "metadata": {},
     "output_type": "execute_result"
    }
   ],
   "source": [
    "num = 7\n",
    "num2 =  7\n",
    "# + , - , * , / , %\n",
    "#   = , += ,\n",
    "#!=  not equal , == eqaul to , < , >less , greater  >= , <= greater and equal, less and equal \n",
    "# and , or , not \n",
    "\n",
    "\n",
    "a =  num2 != num\n",
    "\n",
    "\n",
    "\n",
    "a"
   ]
  },
  {
   "cell_type": "markdown",
   "id": "52444c33",
   "metadata": {},
   "source": [
    "if else"
   ]
  },
  {
   "cell_type": "code",
   "execution_count": 66,
   "id": "908a5df1",
   "metadata": {},
   "outputs": [
    {
     "name": "stdout",
     "output_type": "stream",
     "text": [
      "num2 is greater\n",
      "3 3\n"
     ]
    }
   ],
   "source": [
    "num = 3\n",
    "num2 = 3\n",
    "\n",
    "# if conditions:\n",
    "#     statements\n",
    "\n",
    "\n",
    "\n",
    "if num > num2:\n",
    "    print(\"Num is greater \")\n",
    "    num2+=2\n",
    "else:\n",
    "    print(\"num2 is greater\")\n",
    "   \n",
    "\n",
    "\n",
    "if num > num2:\n",
    "    print(\"Num is greater \")\n",
    "    num2+=2\n",
    "elif num < num2:\n",
    "    print(\"num2 is greater\")\n",
    "    num+=3\n",
    "\n",
    "\n",
    "print(num , num2)\n",
    "\n",
    "\n"
   ]
  },
  {
   "cell_type": "markdown",
   "id": "d9791c37",
   "metadata": {},
   "source": [
    "modulus"
   ]
  },
  {
   "cell_type": "code",
   "execution_count": null,
   "id": "9143675d",
   "metadata": {},
   "outputs": [
    {
     "name": "stdout",
     "output_type": "stream",
     "text": [
      "0\n"
     ]
    }
   ],
   "source": []
  },
  {
   "cell_type": "markdown",
   "id": "93fb8afe",
   "metadata": {},
   "source": [
    "\n",
    "\n",
    "Even or Odd Checker\n",
    "\n",
    "\n",
    "Positive, Negative, or Zero\n",
    "\n",
    "\n",
    "Check Age Eligibility\n",
    "\n",
    "\n",
    "\n",
    "Number Comparison\n",
    "\n",
    "\n",
    "Check Multiple of 5\n",
    "\n",
    "\n",
    "(exchange the variable data)"
   ]
  },
  {
   "cell_type": "code",
   "execution_count": 69,
   "id": "757b2402",
   "metadata": {},
   "outputs": [
    {
     "name": "stdout",
     "output_type": "stream",
     "text": [
      "Siraj Can Drive a car\n"
     ]
    }
   ],
   "source": [
    "person = \"Siraj\"\n",
    "\n",
    "age = 40\n",
    "\n",
    "\n",
    "if age <18:\n",
    "    print(person,\" Cant Drive the car\")\n",
    "elif age>18 and age<=40:\n",
    "    print(person ,\"Can Drive a car\")\n",
    "else:\n",
    "    print(person, \"cant drive a car\")"
   ]
  },
  {
   "cell_type": "code",
   "execution_count": 73,
   "id": "b6ec162f",
   "metadata": {},
   "outputs": [
    {
     "name": "stdout",
     "output_type": "stream",
     "text": [
      "Is not multiply of 5\n"
     ]
    },
    {
     "data": {
      "text/plain": [
       "4"
      ]
     },
     "execution_count": 73,
     "metadata": {},
     "output_type": "execute_result"
    }
   ],
   "source": [
    "num = 59\n",
    "\n",
    "\n",
    "if num %5 ==0:\n",
    "    print(\"the number is multiply of 5\")\n",
    "elif num%5 >=1:\n",
    "    print(\"Is not multiply of 5\")\n",
    "\n",
    "\n",
    "num%5"
   ]
  },
  {
   "cell_type": "code",
   "execution_count": 87,
   "id": "7f7aee70",
   "metadata": {},
   "outputs": [
    {
     "name": "stdout",
     "output_type": "stream",
     "text": [
      "it's a multiple of 4 \n"
     ]
    }
   ],
   "source": [
    "num = 8\n",
    "\n",
    "\n",
    "if num%4 ==0:\n",
    "    print(\"it's a multiple of 4 \")\n",
    "elif num%4 >=1:\n",
    "    print(\"its not a miltple of 4\")"
   ]
  },
  {
   "cell_type": "code",
   "execution_count": null,
   "id": "fc9d717b",
   "metadata": {},
   "outputs": [
    {
     "name": "stdout",
     "output_type": "stream",
     "text": [
      "3 This is the value of a \n",
      "2 this is the value of b\n"
     ]
    }
   ],
   "source": [
    "a = 2 \n",
    "b = 3\n",
    "\n",
    "c = a # c = 2\n",
    "\n",
    "a =b # a =b means a  = 3\n",
    "\n",
    "b = c # b=c means b = 2\n",
    "\n",
    "print(a , \"This is the value of a \")\n",
    "\n",
    "print(b, \"this is the value of b\")\n",
    "\n",
    "\n"
   ]
  },
  {
   "cell_type": "code",
   "execution_count": null,
   "id": "9eaf011d",
   "metadata": {},
   "outputs": [
    {
     "name": "stdout",
     "output_type": "stream",
     "text": [
      "30\n"
     ]
    }
   ],
   "source": [
    "num = 30\n",
    "\n",
    "num2 = num\n",
    "\n",
    "\n",
    "print(30)\n",
    "\n"
   ]
  }
 ],
 "metadata": {
  "kernelspec": {
   "display_name": "Python 3",
   "language": "python",
   "name": "python3"
  },
  "language_info": {
   "codemirror_mode": {
    "name": "ipython",
    "version": 3
   },
   "file_extension": ".py",
   "mimetype": "text/x-python",
   "name": "python",
   "nbconvert_exporter": "python",
   "pygments_lexer": "ipython3",
   "version": "3.12.5"
  }
 },
 "nbformat": 4,
 "nbformat_minor": 5
}
