{
 "cells": [
  {
   "cell_type": "markdown",
   "id": "7127348a",
   "metadata": {},
   "source": [
    "Array / List\n",
    "\n",
    "append()\n",
    "insert()\n",
    "extend()\n",
    "\n",
    "\n",
    "\n"
   ]
  },
  {
   "cell_type": "code",
   "execution_count": 4,
   "id": "a11450a9",
   "metadata": {},
   "outputs": [
    {
     "name": "stdout",
     "output_type": "stream",
     "text": [
      "[1, 2, 3, 4, 5, 6, 7]\n"
     ]
    },
    {
     "data": {
      "text/plain": [
       "[1, 2, 3, 4, 5, 6, 7, 8]"
      ]
     },
     "execution_count": 4,
     "metadata": {},
     "output_type": "execute_result"
    }
   ],
   "source": [
    "number = [1,2,3,4,5,6,7]\n",
    "\n",
    "print(number)\n",
    "\n",
    "number.append(8)\n",
    "\n",
    "number"
   ]
  },
  {
   "cell_type": "markdown",
   "id": "0700a1e5",
   "metadata": {},
   "source": []
  },
  {
   "cell_type": "markdown",
   "id": "3fc8dd2c",
   "metadata": {},
   "source": [
    "input a list  ..  will explain in the split() further more\n"
   ]
  },
  {
   "cell_type": "code",
   "execution_count": 13,
   "id": "518fa570",
   "metadata": {},
   "outputs": [
    {
     "name": "stdout",
     "output_type": "stream",
     "text": [
      "[1, 2, 4, 5, 6, 7]\n",
      "3\n"
     ]
    }
   ],
   "source": [
    "number = [1,2,4,5,6,7]\n",
    "\n",
    "print(number)\n",
    "\n",
    "\n",
    "\n",
    "number.insert(2,3)\n",
    "\n",
    "#insert(index,value)\n",
    "\n",
    "print(number[2])\n"
   ]
  },
  {
   "cell_type": "code",
   "execution_count": null,
   "id": "e37a18df",
   "metadata": {},
   "outputs": [
    {
     "data": {
      "text/plain": [
       "[2, 4, 5, 6, 7]"
      ]
     },
     "execution_count": 18,
     "metadata": {},
     "output_type": "execute_result"
    }
   ],
   "source": [
    "number = [1,2,4,5,6,7]\n",
    "\n",
    "num2 = [8,9,10,11]\n",
    "\n",
    "\n",
    "\n",
    "\n",
    "\n",
    "number.extend(num2)\n",
    "\n",
    "number[1:5]\n",
    "\n"
   ]
  },
  {
   "cell_type": "code",
   "execution_count": null,
   "id": "3e1c9932",
   "metadata": {},
   "outputs": [
    {
     "data": {
      "text/plain": [
       "[2, 4]"
      ]
     },
     "execution_count": 19,
     "metadata": {},
     "output_type": "execute_result"
    }
   ],
   "source": []
  },
  {
   "cell_type": "markdown",
   "id": "735d4637",
   "metadata": {},
   "source": [
    "\n",
    "array element change multiple  array[x:n-1]  # x will be index number from x to n-1 value \n",
    "\n",
    "example:\n",
    "\n",
    "list = [\"bob\", \"Jen\",1,2,\"array\"]\n",
    "\n",
    "list[2:4] = [\"jerry\",\"bob2\",\"smith\"]\n",
    "\n",
    "list\n",
    "\n",
    "We can also replace multple element with single element\n",
    "\n",
    "example :\n",
    "\n",
    "array = ['bob', 'Jen',1,2,'array']\n",
    "\n",
    "i want to replace the 1 and 2 with jerry\n",
    "\n",
    "array[2:4] = [\"jerry\"]\n",
    "\n"
   ]
  },
  {
   "cell_type": "code",
   "execution_count": 26,
   "id": "409368bd",
   "metadata": {},
   "outputs": [
    {
     "data": {
      "text/plain": [
       "['bob', 'Jen', 'jerry', 'list']"
      ]
     },
     "execution_count": 26,
     "metadata": {},
     "output_type": "execute_result"
    }
   ],
   "source": [
    "list = [\"bob\", \"Jen\",1,2,\"list\"]\n",
    "\n",
    "\n",
    "n2 = [\"jerry\",\"bob2\",\"smith\"]\n",
    "\n",
    "list[2:4] = [\"jerry\"]\n",
    "\n",
    "\n",
    "list\n"
   ]
  },
  {
   "cell_type": "markdown",
   "id": "6572dacb",
   "metadata": {},
   "source": []
  },
  {
   "cell_type": "markdown",
   "id": "565ea4f4",
   "metadata": {},
   "source": [
    "warping the input as int()"
   ]
  },
  {
   "cell_type": "code",
   "execution_count": 27,
   "id": "6a32792c",
   "metadata": {},
   "outputs": [
    {
     "data": {
      "text/plain": [
       "int"
      ]
     },
     "execution_count": 27,
     "metadata": {},
     "output_type": "execute_result"
    }
   ],
   "source": [
    "n = int(input(\"Enter the number for fibonacci series.....\"))\n",
    "\n",
    "type(n)\n",
    "\n"
   ]
  },
  {
   "cell_type": "markdown",
   "id": "d87cfc9a",
   "metadata": {},
   "source": [
    "Input a List using Loops in Python"
   ]
  },
  {
   "cell_type": "code",
   "execution_count": null,
   "id": "86b13056",
   "metadata": {},
   "outputs": [
    {
     "data": {
      "text/plain": [
       "str"
      ]
     },
     "execution_count": 28,
     "metadata": {},
     "output_type": "execute_result"
    }
   ],
   "source": [
    "\n"
   ]
  },
  {
   "cell_type": "markdown",
   "id": "8479de12",
   "metadata": {},
   "source": [
    "sorted array"
   ]
  },
  {
   "cell_type": "code",
   "execution_count": null,
   "id": "e8c2ce5d",
   "metadata": {},
   "outputs": [
    {
     "data": {
      "text/plain": [
       "[2, 5, 5, 6, 34, 56, 62, 1233]"
      ]
     },
     "execution_count": 29,
     "metadata": {},
     "output_type": "execute_result"
    }
   ],
   "source": [
    "numbers =[1233,56,34,5,6,62,5,2]\n",
    "\n",
    "numbers.sort()\n",
    "\n",
    "\n",
    "\n",
    "\n",
    "numbers"
   ]
  },
  {
   "cell_type": "markdown",
   "id": "a8d81f8c",
   "metadata": {},
   "source": [
    "Split"
   ]
  },
  {
   "cell_type": "code",
   "execution_count": null,
   "id": "69c94ef5",
   "metadata": {},
   "outputs": [],
   "source": []
  },
  {
   "cell_type": "markdown",
   "id": "57093fcd",
   "metadata": {},
   "source": [
    "remove() just removes the given value\n",
    "pop() with index and without index\n",
    "del \n",
    "clear()"
   ]
  },
  {
   "cell_type": "code",
   "execution_count": 40,
   "id": "dc342d2c",
   "metadata": {},
   "outputs": [
    {
     "data": {
      "text/plain": [
       "[12, 23, 45, 88]"
      ]
     },
     "execution_count": 40,
     "metadata": {},
     "output_type": "execute_result"
    }
   ],
   "source": [
    "numbers =[12,23,45,67,88]\n",
    "\n",
    "numbers.remove(67)\n",
    "\n",
    "numbers\n"
   ]
  },
  {
   "cell_type": "code",
   "execution_count": null,
   "id": "fa7c5e35",
   "metadata": {},
   "outputs": [
    {
     "data": {
      "text/plain": [
       "[]"
      ]
     },
     "execution_count": 51,
     "metadata": {},
     "output_type": "execute_result"
    }
   ],
   "source": [
    "numbers =[12,23,45,67,88]\n",
    "\n",
    "numbers.clear()\n",
    "\n",
    "\n",
    "\n",
    "numbers"
   ]
  },
  {
   "cell_type": "markdown",
   "id": "30d45563",
   "metadata": {},
   "source": [
    "in \n",
    "\n",
    "name with J \n",
    "\n",
    "j in name "
   ]
  },
  {
   "cell_type": "code",
   "execution_count": 49,
   "id": "ea173a9e",
   "metadata": {},
   "outputs": [
    {
     "name": "stdout",
     "output_type": "stream",
     "text": [
      "jeery\n",
      "jacob\n",
      "Siraj\n"
     ]
    }
   ],
   "source": [
    "names = [\"James\", \"Bob\",\"jeery\",\"jacob\", \"Siraj\"] \n",
    "\n",
    "\n",
    "for name in names:\n",
    "    if \"j\" in name:\n",
    "        print(name)\n",
    "\n",
    "\n",
    "\n",
    "for name in names:\n",
    "    if  name.startswith(\"J\") and name.startswith(\"j\"):\n",
    "        print(name)\n",
    "\n"
   ]
  },
  {
   "cell_type": "markdown",
   "id": "e9ab1bf2",
   "metadata": {},
   "source": []
  },
  {
   "cell_type": "markdown",
   "id": "866b4fb5",
   "metadata": {},
   "source": [
    "append()\n",
    "insert()\n",
    "extend()\n",
    "task practice\n",
    "in , startswith()\n",
    "\n",
    ".sort\n",
    ".remove \n",
    ".pop\n",
    ".clear()\n",
    "del(varaible )\n",
    "\n",
    "indexing -1 -2\n",
    "\n",
    "change values in the array with multiple index [2:4]"
   ]
  },
  {
   "cell_type": "markdown",
   "id": "7b091e75",
   "metadata": {},
   "source": [
    "house task:\n",
    "\n",
    "Create an empty list and add three numbers into it.\n",
    "\n",
    "Start with the list [1, 2, 4, 5] and insert the number 3 at index 2.\n",
    "\n",
    "Combine two lists [1,2,3] and [4,5,6] into one.\n",
    "\n",
    "Write a program that takes 5 numbers from the user and stores them in a list.\n",
    "\n",
    "Check if the number 10 is present in the list [5, 10, 15, 20].\n",
    "\n",
    "Given a list ['apple', 'banana', 'apricot', 'cherry'], print only the words that start with 'a'.\n",
    "\n",
    "Sort the list [3,1,4,2] in ascending order.\n",
    "\n",
    "From the list [10,20,30,40], remove the value 30.\n",
    "\n",
    "Remove the last element from the list [1,2,3,4,5].\n",
    "\n",
    "Clear all elements from the list [100, 200, 300].\n",
    "\n",
    "Create a list [5,10,15,20] and delete the second element.\n",
    "\n",
    "From the list [11,22,33,44,55], print the last element.\n",
    "\n",
    "From the list [11,22,33,44,55], print the second last element.\n",
    "\n",
    "Given the list [0,1,2,3,4,5], change the values at index 2 to 4 with [100,200].\n",
    "\n",
    "\n",
    "\n",
    "\n",
    "\n"
   ]
  },
  {
   "cell_type": "code",
   "execution_count": 1,
   "id": "625d1b02",
   "metadata": {},
   "outputs": [
    {
     "name": "stdout",
     "output_type": "stream",
     "text": [
      "[1, 2, 3, 4, 5, 6]\n"
     ]
    }
   ],
   "source": [
    "list14 = [1, 2, 3]\n",
    "list15 = [4, 5, 6]\n",
    "\n",
    "concat_list = list14 + list15\n",
    "\n",
    "print(concat_list)"
   ]
  }
 ],
 "metadata": {
  "kernelspec": {
   "display_name": "Python 3",
   "language": "python",
   "name": "python3"
  },
  "language_info": {
   "codemirror_mode": {
    "name": "ipython",
    "version": 3
   },
   "file_extension": ".py",
   "mimetype": "text/x-python",
   "name": "python",
   "nbconvert_exporter": "python",
   "pygments_lexer": "ipython3",
   "version": "3.12.5"
  }
 },
 "nbformat": 4,
 "nbformat_minor": 5
}
