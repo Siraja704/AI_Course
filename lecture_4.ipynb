{
 "cells": [
  {
   "cell_type": "markdown",
   "id": "7127348a",
   "metadata": {},
   "source": [
    "Array / List\n",
    "\n",
    "append()\n",
    "insert()\n",
    "extend()\n",
    "\n",
    "\n",
    "\n"
   ]
  },
  {
   "cell_type": "code",
   "execution_count": null,
   "id": "a11450a9",
   "metadata": {},
   "outputs": [],
   "source": []
  },
  {
   "cell_type": "markdown",
   "id": "0700a1e5",
   "metadata": {},
   "source": []
  },
  {
   "cell_type": "markdown",
   "id": "3fc8dd2c",
   "metadata": {},
   "source": [
    "input a list  ..  will explain in the split() further more\n"
   ]
  },
  {
   "cell_type": "markdown",
   "id": "735d4637",
   "metadata": {},
   "source": [
    "\n",
    "array element change multiple  array[x:n-1]  # x will be index number from x to n-1 value \n",
    "\n",
    "example:\n",
    "\n",
    "list = [\"bob\", \"Jen\",1,2,\"array\"]\n",
    "\n",
    "list[2:4] = [\"jerry\",\"bob2\",\"smith\"]\n",
    "\n",
    "list\n",
    "\n",
    "We can also replace multple element with single element\n",
    "\n",
    "example :\n",
    "\n",
    "array = ['bob', 'Jen',1,2,'array']\n",
    "\n",
    "i want to replace the 1 and 2 with jerry\n",
    "\n",
    "array[2:4] = [\"jerry\"]\n",
    "\n"
   ]
  },
  {
   "cell_type": "code",
   "execution_count": null,
   "id": "409368bd",
   "metadata": {},
   "outputs": [],
   "source": []
  },
  {
   "cell_type": "markdown",
   "id": "6572dacb",
   "metadata": {},
   "source": []
  },
  {
   "cell_type": "markdown",
   "id": "565ea4f4",
   "metadata": {},
   "source": [
    "warping the input as int()"
   ]
  },
  {
   "cell_type": "code",
   "execution_count": null,
   "id": "6a32792c",
   "metadata": {},
   "outputs": [
    {
     "data": {
      "text/plain": [
       "12"
      ]
     },
     "execution_count": 16,
     "metadata": {},
     "output_type": "execute_result"
    }
   ],
   "source": []
  },
  {
   "cell_type": "markdown",
   "id": "d87cfc9a",
   "metadata": {},
   "source": [
    "Input a List using Loops in Python"
   ]
  },
  {
   "cell_type": "code",
   "execution_count": null,
   "id": "86b13056",
   "metadata": {},
   "outputs": [],
   "source": [
    "\n"
   ]
  },
  {
   "cell_type": "markdown",
   "id": "8479de12",
   "metadata": {},
   "source": [
    "sorted array"
   ]
  },
  {
   "cell_type": "code",
   "execution_count": null,
   "id": "e8c2ce5d",
   "metadata": {},
   "outputs": [],
   "source": []
  },
  {
   "cell_type": "markdown",
   "id": "a8d81f8c",
   "metadata": {},
   "source": [
    "Split"
   ]
  },
  {
   "cell_type": "code",
   "execution_count": null,
   "id": "69c94ef5",
   "metadata": {},
   "outputs": [],
   "source": []
  },
  {
   "cell_type": "markdown",
   "id": "57093fcd",
   "metadata": {},
   "source": [
    "remove()\n",
    "pop() with index and without index\n",
    "del \n",
    "clear()"
   ]
  },
  {
   "cell_type": "code",
   "execution_count": null,
   "id": "dc342d2c",
   "metadata": {},
   "outputs": [
    {
     "data": {
      "text/plain": [
       "'bob'"
      ]
     },
     "execution_count": 42,
     "metadata": {},
     "output_type": "execute_result"
    }
   ],
   "source": [
    "\n"
   ]
  },
  {
   "cell_type": "markdown",
   "id": "30d45563",
   "metadata": {},
   "source": [
    "in \n",
    "\n",
    "name with J "
   ]
  },
  {
   "cell_type": "code",
   "execution_count": null,
   "id": "ea173a9e",
   "metadata": {},
   "outputs": [],
   "source": []
  }
 ],
 "metadata": {
  "kernelspec": {
   "display_name": "Python 3",
   "language": "python",
   "name": "python3"
  },
  "language_info": {
   "codemirror_mode": {
    "name": "ipython",
    "version": 3
   },
   "file_extension": ".py",
   "mimetype": "text/x-python",
   "name": "python",
   "nbconvert_exporter": "python",
   "pygments_lexer": "ipython3",
   "version": "3.12.5"
  }
 },
 "nbformat": 4,
 "nbformat_minor": 5
}
