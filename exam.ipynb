{
 "cells": [
  {
   "cell_type": "markdown",
   "id": "2f4d63d3",
   "metadata": {},
   "source": [
    "Create variables of type integer, float, string, and boolean. Print their types.\n",
    "\n",
    "Slice the word \"Python\" from the string text = \"Welcome to Python Final Exam\" and split the text into a list of words.\n",
    "\n",
    "Write a program to take two numbers and print whether they are equal, or which one is greater.\n",
    "\n",
    "Write a program that asks for a user's age and prints \"Minor\" if age is less than 18, \"Adult\" if age is between 18 and 60, and \"Senior Citizen\" otherwise.\n",
    "\n",
    "Using a for loop, print numbers 1 to 10 but skip the number 5.\n",
    "\n",
    "Using a while loop, print numbers from 10 to 1, but stop the loop if the number is 3.\n",
    "\n",
    "Write a function calculate_area(length, width) that returns the area of a rectangle. Call the function with sample values and print the result.\n",
    "\n",
    "Create a list of five fruits. Add a new fruit to the list and remove \"Apple\" if it exists. Print the updated list.\n",
    "\n",
    "Create a tuple with three numbers and print the second element. Try to change an element and observe what happens.\n",
    "\n",
    "Create a dictionary with three people's names as keys and their ages as values. Add one more person. Print all keys and all values separately.\n",
    "\n",
    "Write a program that divides two numbers entered by the user and handles division by zero using exception handling.\n",
    "\n",
    "Create a class Car with attributes brand, model, and year, and a method display_info() that prints these details. Create an object and call the method. (optional)"
   ]
  }
 ],
 "metadata": {
  "language_info": {
   "name": "python"
  }
 },
 "nbformat": 4,
 "nbformat_minor": 5
}
