{
 "cells": [
  {
   "cell_type": "markdown",
   "id": "2f4d63d3",
   "metadata": {},
   "source": []
  }
 ],
 "metadata": {
  "language_info": {
   "name": "python"
  }
 },
 "nbformat": 4,
 "nbformat_minor": 5
}
