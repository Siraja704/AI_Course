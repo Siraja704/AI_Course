{
 "cells": [
  {
   "cell_type": "code",
   "execution_count": null,
   "id": "01b3b231",
   "metadata": {},
   "outputs": [
    {
     "name": "stdout",
     "output_type": "stream",
     "text": [
      "Karan\n",
      "Rajeev\n",
      "hello,  Rajeev You average marks are:  80.0\n"
     ]
    }
   ],
   "source": [
    "class student:\n",
    "\n",
    "\n",
    "\n",
    "    def __init__(self,fullname , marks):\n",
    "        self.name = fullname\n",
    "        self.marks = marks\n",
    "\n",
    "    def get_average(self):\n",
    "        sum =0 \n",
    "\n",
    "        for val in self.marks:\n",
    "            sum+=val\n",
    "\n",
    "        print(\"hello, \", self.name ,\"You average marks are: \", sum/3)\n",
    "        \n",
    "\n",
    "\n",
    "\n",
    "\n",
    "\n",
    "s1 = student(\"Karan\",[80,90,70])\n",
    "print(s1.name)\n",
    "s1.name = \"Rajeev\"\n",
    "\n",
    "print(s1.name)\n",
    "\n",
    "\n",
    "s2 = student(\"Darshan\",[50,80,96])\n",
    "        \n",
    "\n",
    "\n",
    "s1.get_average()"
   ]
  },
  {
   "cell_type": "code",
   "execution_count": null,
   "id": "2851b9df",
   "metadata": {},
   "outputs": [],
   "source": []
  }
 ],
 "metadata": {
  "kernelspec": {
   "display_name": "Python 3",
   "language": "python",
   "name": "python3"
  },
  "language_info": {
   "codemirror_mode": {
    "name": "ipython",
    "version": 3
   },
   "file_extension": ".py",
   "mimetype": "text/x-python",
   "name": "python",
   "nbconvert_exporter": "python",
   "pygments_lexer": "ipython3",
   "version": "3.12.5"
  }
 },
 "nbformat": 4,
 "nbformat_minor": 5
}
