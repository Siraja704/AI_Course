{
 "cells": [
  {
   "cell_type": "code",
   "execution_count": null,
   "id": "01b3b231",
   "metadata": {},
   "outputs": [
    {
     "name": "stdout",
     "output_type": "stream",
     "text": [
      "Karan\n",
      "Rajeev\n",
      "hello,  Rajeev You average marks are:  80.0\n"
     ]
    }
   ],
   "source": [
    "class student:\n",
    "\n",
    "\n",
    "\n",
    "    def __init__(self,fullname , marks):\n",
    "        self.name = fullname\n",
    "        self.marks = marks\n",
    "\n",
    "    def get_average(self):\n",
    "        sum =0 \n",
    "\n",
    "        for val in self.marks:\n",
    "            sum+=val\n",
    "\n",
    "        print(\"hello, \", self.name ,\"You average marks are: \", sum/3)\n",
    "        \n",
    "\n",
    "\n",
    "\n",
    "\n",
    "\n",
    "s1 = student(\"Karan\",[80,90,70])\n",
    "print(s1.name)\n",
    "s1.name = \"Rajeev\"\n",
    "\n",
    "print(s1.name)\n",
    "\n",
    "\n",
    "s2 = student(\"Darshan\",[50,80,96])\n",
    "        \n",
    "\n",
    "\n",
    "s1.get_average()"
   ]
  },
  {
   "cell_type": "code",
   "execution_count": 13,
   "id": "2851b9df",
   "metadata": {},
   "outputs": [],
   "source": [
    "class bank_account:\n",
    "\n",
    "    def __init__(self,fullname, bal, acc_no):\n",
    "        self.name = fullname \n",
    "        self.bal = bal\n",
    "        self.accountNumber = acc_no\n",
    "\n",
    "    \n",
    "    def withdraw(self,debit):\n",
    "        if self.bal<debit:\n",
    "            print(\"Your account have less amount\")\n",
    "        else:\n",
    "            self.bal -= debit\n",
    "            print(\"Your account has been debited by amount of \", debit)\n",
    "            print(\"Your current balance is :\", self.bal)\n",
    "\n",
    "    def credited(self, credit_amount):\n",
    "        self.bal += credit_amount\n",
    "        print(\"Your account has been credited by amount of \", credit_amount)\n",
    "        print(\"Your current balance is :\", self.bal)\n",
    "\n",
    "\n",
    "    def inquery(self):\n",
    "        print(\"Your current balance is :\",self.bal)\n",
    "\n",
    "\n",
    "\n",
    "name = \"Neha\"\n",
    "     \n",
    "bal = 10000\n",
    "    \n",
    "account_no = 123123\n",
    "\n",
    "\n",
    "user2 = bank_account(name, bal , account_no)\n",
    "\n",
    "\n",
    "\n",
    "\n",
    "\n",
    "        "
   ]
  },
  {
   "cell_type": "code",
   "execution_count": 14,
   "id": "389a87bd",
   "metadata": {},
   "outputs": [
    {
     "name": "stdout",
     "output_type": "stream",
     "text": [
      "Your account has been credited by amount of  50000\n",
      "Your current balance is : 60000\n"
     ]
    }
   ],
   "source": [
    "\n",
    "\n",
    "user2.credited(50000)"
   ]
  },
  {
   "cell_type": "code",
   "execution_count": 15,
   "id": "5c3850be",
   "metadata": {},
   "outputs": [
    {
     "name": "stdout",
     "output_type": "stream",
     "text": [
      "Your current balance is : 60000\n"
     ]
    }
   ],
   "source": [
    "\n",
    "\n",
    "user2.inquery()"
   ]
  },
  {
   "cell_type": "code",
   "execution_count": null,
   "id": "7184e210",
   "metadata": {},
   "outputs": [],
   "source": []
  },
  {
   "cell_type": "markdown",
   "id": "f5f7bd26",
   "metadata": {},
   "source": [
    "dictionary\n",
    "\n",
    "try and exception as e \n",
    "\n",
    "OOP , object oriented programming OOP\n",
    "\n",
    "class , constructor ,\n",
    "\n",
    "objects , attributates \n",
    "\n",
    "\n",
    "\n",
    "class function"
   ]
  },
  {
   "cell_type": "markdown",
   "id": "13a3aa7e",
   "metadata": {},
   "source": [
    "House Task"
   ]
  },
  {
   "cell_type": "markdown",
   "id": "d5850620",
   "metadata": {},
   "source": []
  }
 ],
 "metadata": {
  "kernelspec": {
   "display_name": "Python 3",
   "language": "python",
   "name": "python3"
  },
  "language_info": {
   "codemirror_mode": {
    "name": "ipython",
    "version": 3
   },
   "file_extension": ".py",
   "mimetype": "text/x-python",
   "name": "python",
   "nbconvert_exporter": "python",
   "pygments_lexer": "ipython3",
   "version": "3.12.5"
  }
 },
 "nbformat": 4,
 "nbformat_minor": 5
}
